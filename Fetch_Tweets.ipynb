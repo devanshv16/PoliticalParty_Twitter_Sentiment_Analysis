{
 "cells": [
  {
   "cell_type": "code",
   "execution_count": 4,
   "id": "593b100d-fb4a-4ad9-b1ec-b0a012fb0b4d",
   "metadata": {},
   "outputs": [
    {
     "name": "stderr",
     "output_type": "stream",
     "text": [
      "Testing instances: 100%|███████████████████████████████████████████████████████████████| 31/31 [01:36<00:00,  3.12s/it]\n"
     ]
    }
   ],
   "source": [
    "import pandas as pd\n",
    "from ntscraper import Nitter\n",
    "\n",
    "scraper = Nitter()\n",
    "\n"
   ]
  },
  {
   "cell_type": "code",
   "execution_count": 5,
   "id": "e2b299ac-3690-4def-b6ca-4b0db0e446b6",
   "metadata": {},
   "outputs": [],
   "source": [
    "def get_tweets(name, mode, number):\n",
    "    #mode could have 'hashtag' or 'term' for a keyword\n",
    "    tweets = scraper.get_tweets(name,mode,number)\n",
    "    tweets_info = []\n",
    "    for tweet in tweets['tweets']:\n",
    "        tweets_info.append([tweet['user']['username'],tweet['link'],tweet['text'],tweet['date'],tweet['stats']['likes'], tweet['stats']['comments'], tweet['stats']['retweets']])\n",
    "    return tweets_info\n",
    "\n",
    "\n"
   ]
  },
  {
   "cell_type": "code",
   "execution_count": 7,
   "id": "547bc8d9-4992-47e1-83d2-61aa39a9b043",
   "metadata": {},
   "outputs": [
    {
     "name": "stdout",
     "output_type": "stream",
     "text": [
      "13-Dec-23 16:05:43 - No instance specified, using random instance https://nitter.perennialte.ch\n",
      "13-Dec-23 16:05:52 - Current stats for INCIndia: 20 tweets, 0 threads...\n",
      "13-Dec-23 16:05:57 - Current stats for INCIndia: 40 tweets, 0 threads...\n",
      "13-Dec-23 16:06:02 - Current stats for INCIndia: 60 tweets, 0 threads...\n",
      "13-Dec-23 16:06:07 - Current stats for INCIndia: 80 tweets, 0 threads...\n",
      "13-Dec-23 16:06:11 - Current stats for INCIndia: 100 tweets, 0 threads...\n",
      "13-Dec-23 16:06:17 - Current stats for INCIndia: 120 tweets, 0 threads...\n",
      "13-Dec-23 16:06:22 - Current stats for INCIndia: 140 tweets, 0 threads...\n",
      "13-Dec-23 16:06:27 - Current stats for INCIndia: 159 tweets, 0 threads...\n",
      "13-Dec-23 16:06:32 - Current stats for INCIndia: 179 tweets, 0 threads...\n",
      "13-Dec-23 16:06:37 - Current stats for INCIndia: 199 tweets, 0 threads...\n",
      "13-Dec-23 16:06:43 - Current stats for INCIndia: 219 tweets, 0 threads...\n",
      "13-Dec-23 16:06:48 - Current stats for INCIndia: 239 tweets, 0 threads...\n",
      "13-Dec-23 16:06:54 - Current stats for INCIndia: 259 tweets, 0 threads...\n",
      "13-Dec-23 16:06:59 - Current stats for INCIndia: 279 tweets, 0 threads...\n",
      "13-Dec-23 16:07:03 - Current stats for INCIndia: 299 tweets, 0 threads...\n",
      "13-Dec-23 16:07:09 - Current stats for INCIndia: 319 tweets, 0 threads...\n",
      "13-Dec-23 16:07:14 - Current stats for INCIndia: 339 tweets, 0 threads...\n",
      "13-Dec-23 16:07:20 - Current stats for INCIndia: 359 tweets, 0 threads...\n",
      "13-Dec-23 16:07:25 - Current stats for INCIndia: 379 tweets, 0 threads...\n",
      "13-Dec-23 16:07:30 - Current stats for INCIndia: 398 tweets, 0 threads...\n",
      "13-Dec-23 16:07:35 - Current stats for INCIndia: 418 tweets, 0 threads...\n",
      "13-Dec-23 16:07:41 - Current stats for INCIndia: 438 tweets, 0 threads...\n",
      "13-Dec-23 16:07:46 - Current stats for INCIndia: 458 tweets, 0 threads...\n",
      "13-Dec-23 16:07:51 - Current stats for INCIndia: 478 tweets, 0 threads...\n",
      "13-Dec-23 16:07:57 - Current stats for INCIndia: 498 tweets, 0 threads...\n",
      "13-Dec-23 16:08:02 - Current stats for INCIndia: 518 tweets, 0 threads...\n",
      "13-Dec-23 16:08:07 - Current stats for INCIndia: 538 tweets, 0 threads...\n",
      "13-Dec-23 16:08:12 - Current stats for INCIndia: 558 tweets, 0 threads...\n",
      "13-Dec-23 16:08:17 - Current stats for INCIndia: 578 tweets, 0 threads...\n",
      "13-Dec-23 16:08:22 - Current stats for INCIndia: 598 tweets, 0 threads...\n",
      "13-Dec-23 16:08:27 - Current stats for INCIndia: 600 tweets, 0 threads...\n"
     ]
    }
   ],
   "source": [
    "tweets_info = get_tweets(\"INCIndia\", \"user\", 600)\n",
    "data = pd.DataFrame(tweets_info, columns=['Username', 'Link', 'Text', 'Date', 'Likes', 'Comments', 'Retweets'])\n",
    "data.to_csv(\"tweets_Congress.csv\")"
   ]
  },
  {
   "cell_type": "code",
   "execution_count": null,
   "id": "2de18552-0022-4bbc-afbc-577e89922ccd",
   "metadata": {},
   "outputs": [],
   "source": []
  }
 ],
 "metadata": {
  "kernelspec": {
   "display_name": "Python 3 (ipykernel)",
   "language": "python",
   "name": "python3"
  },
  "language_info": {
   "codemirror_mode": {
    "name": "ipython",
    "version": 3
   },
   "file_extension": ".py",
   "mimetype": "text/x-python",
   "name": "python",
   "nbconvert_exporter": "python",
   "pygments_lexer": "ipython3",
   "version": "3.12.1"
  }
 },
 "nbformat": 4,
 "nbformat_minor": 5
}
